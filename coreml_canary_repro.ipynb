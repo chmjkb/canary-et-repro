{
 "cells": [
  {
   "cell_type": "code",
   "execution_count": 25,
   "id": "edaec6eb",
   "metadata": {},
   "outputs": [],
   "source": [
    "import torch\n",
    "from executorch.backends.apple.coreml.partition import CoreMLPartitioner"
   ]
  },
  {
   "cell_type": "code",
   "execution_count": null,
   "id": "744abc3c",
   "metadata": {},
   "outputs": [],
   "source": [
    "exported_module = torch.export.load(\"./bin/nemo_decoder.pt2\")"
   ]
  },
  {
   "cell_type": "code",
   "execution_count": 27,
   "id": "3e2fb6fa",
   "metadata": {},
   "outputs": [
    {
     "name": "stderr",
     "output_type": "stream",
     "text": [
      "/Users/jakubchmura/Desktop/SWM_AI/executorch/.venv/lib/python3.10/site-packages/torch/export/_unlift.py:81: UserWarning: Attempted to insert a get_attr Node with no underlying reference in the owning GraphModule! Call GraphModule.add_submodule to add the necessary submodule, GraphModule.add_parameter to add the necessary Parameter, or nn.Module.register_buffer to add the necessary buffer\n",
      "  getattr_node = gm.graph.get_attr(lifted_node)\n",
      "/Users/jakubchmura/Desktop/SWM_AI/executorch/.venv/lib/python3.10/site-packages/torch/fx/graph.py:1772: UserWarning: Node lifted_tensor_0 target lifted_tensor_0 lifted_tensor_0 of  does not reference an nn.Module, nn.Parameter, or buffer, which is what 'get_attr' Nodes typically target\n",
      "  warnings.warn(\n"
     ]
    }
   ],
   "source": [
    "import coremltools\n",
    "from executorch.backends.apple.coreml.compiler import CoreMLBackend\n",
    "import executorch.exir as exir\n",
    "\n",
    "_EDGE_COMPILE_CONFIG = exir.EdgeCompileConfig(\n",
    "    _check_ir_validity=False,\n",
    "    _skip_dim_order=True,\n",
    ")\n",
    "\n",
    "compile_specs = CoreMLBackend.generate_compile_specs(\n",
    "    minimum_deployment_target=coremltools.target.iOS16,\n",
    "    compute_precision=coremltools.precision.FLOAT16,\n",
    "    compute_unit=coremltools.ComputeUnit.CPU_AND_GPU,\n",
    ")\n",
    "\n",
    "et_program = exir.to_edge(exported_module, compile_config=_EDGE_COMPILE_CONFIG)"
   ]
  },
  {
   "cell_type": "code",
   "execution_count": 28,
   "id": "d0ce23fd",
   "metadata": {},
   "outputs": [
    {
     "name": "stderr",
     "output_type": "stream",
     "text": [
      "Converting PyTorch Frontend ==> MIL Ops:   0%|          | 0/486 [00:00<?, ? ops/s]WARNING:coremltools:Saving value type of int64 into a builtin type of int32, might lose precision!\n",
      "WARNING:coremltools:Saving value type of int64 into a builtin type of int32, might lose precision!\n",
      "WARNING:coremltools:Saving value type of int64 into a builtin type of int32, might lose precision!\n",
      "WARNING:coremltools:Saving value type of int64 into a builtin type of int32, might lose precision!\n",
      "WARNING:coremltools:Core ML embedding (gather) layer does not support any inputs besides the weights and indices. Those given will be ignored.\n",
      "Converting PyTorch Frontend ==> MIL Ops: 100%|█████████▉| 485/486 [00:00<00:00, 4442.29 ops/s]\n",
      "Running MIL frontend_pytorch pipeline: 100%|██████████| 5/5 [00:00<00:00, 112.97 passes/s]\n",
      "Running MIL default pipeline: 100%|██████████| 89/89 [00:02<00:00, 31.34 passes/s] \n",
      "Running MIL backend_mlprogram pipeline: 100%|██████████| 12/12 [00:00<00:00, 236.14 passes/s]\n",
      "/Users/jakubchmura/Desktop/SWM_AI/executorch/.venv/lib/python3.10/site-packages/torch/export/_unlift.py:81: UserWarning: Attempted to insert a get_attr Node with no underlying reference in the owning GraphModule! Call GraphModule.add_submodule to add the necessary submodule, GraphModule.add_parameter to add the necessary Parameter, or nn.Module.register_buffer to add the necessary buffer\n",
      "  getattr_node = gm.graph.get_attr(lifted_node)\n",
      "/Users/jakubchmura/Desktop/SWM_AI/executorch/.venv/lib/python3.10/site-packages/torch/fx/graph.py:1772: UserWarning: Node lifted_tensor_0 target lifted_tensor_0 lifted_tensor_0 of  does not reference an nn.Module, nn.Parameter, or buffer, which is what 'get_attr' Nodes typically target\n",
      "  warnings.warn(\n",
      "/Users/jakubchmura/Desktop/SWM_AI/executorch/.venv/lib/python3.10/site-packages/torch/export/_unlift.py:81: UserWarning: Attempted to insert a get_attr Node with no underlying reference in the owning GraphModule! Call GraphModule.add_submodule to add the necessary submodule, GraphModule.add_parameter to add the necessary Parameter, or nn.Module.register_buffer to add the necessary buffer\n",
      "  getattr_node = gm.graph.get_attr(lifted_node)\n",
      "/Users/jakubchmura/Desktop/SWM_AI/executorch/.venv/lib/python3.10/site-packages/torch/fx/graph.py:1772: UserWarning: Node lifted_tensor_0 target lifted_tensor_0 lifted_tensor_0 of  does not reference an nn.Module, nn.Parameter, or buffer, which is what 'get_attr' Nodes typically target\n",
      "  warnings.warn(\n"
     ]
    }
   ],
   "source": [
    "partitioner = CoreMLPartitioner(\n",
    "    skip_ops_for_coreml_delegation=None, compile_specs=compile_specs,\n",
    ")\n",
    "delegated_program_manager = et_program.to_backend(partitioner)\n",
    "exec_program = delegated_program_manager.to_executorch(\n",
    "    config=exir.ExecutorchBackendConfig(extract_delegate_segments=True)\n",
    ")"
   ]
  },
  {
   "cell_type": "code",
   "execution_count": null,
   "id": "6962f694",
   "metadata": {},
   "outputs": [],
   "source": [
    "import os\n",
    "from pathlib import Path\n",
    "\n",
    "filename = Path(os.getcwd(), \"bin\", \"nemo_decoder_coreml.pte\")\n",
    "with open(filename, \"wb\") as file:\n",
    "    exec_program.write_to_file(file)"
   ]
  },
  {
   "cell_type": "code",
   "execution_count": 30,
   "id": "69b4b14d",
   "metadata": {},
   "outputs": [
    {
     "data": {
      "text/plain": [
       "[tensor([[ 55, 127, 473,  90, 375, 262, 433, 235,  69,   3]])]"
      ]
     },
     "execution_count": 30,
     "metadata": {},
     "output_type": "execute_result"
    }
   ],
   "source": [
    "from pathlib import Path\n",
    "\n",
    "import torch\n",
    "from executorch.runtime import Verification, Runtime, Program, Method\n",
    "\n",
    "et_runtime: Runtime = Runtime.get()\n",
    "program: Program = et_runtime.load_program(\n",
    "    Path(filename),\n",
    "    verification=Verification.Minimal,\n",
    ")\n",
    "forward: Method = program.load_method(\"forward\")\n",
    "\n",
    "encoder_hidden_states = torch.rand(1, 35, 1024)\n",
    "decoder_input_ids = torch.randint(0, 500, (1, 9), dtype=torch.int64)\n",
    "\n",
    "forward.execute((decoder_input_ids, encoder_hidden_states, ))"
   ]
  },
  {
   "cell_type": "code",
   "execution_count": 31,
   "id": "e18affc1",
   "metadata": {},
   "outputs": [
    {
     "name": "stdout",
     "output_type": "stream",
     "text": [
      "1.9 ms ± 49.9 μs per loop (mean ± std. dev. of 7 runs, 1,000 loops each)\n"
     ]
    }
   ],
   "source": [
    "%%timeit\n",
    "forward.execute((decoder_input_ids, encoder_hidden_states))"
   ]
  },
  {
   "cell_type": "code",
   "execution_count": null,
   "id": "1b67c413",
   "metadata": {},
   "outputs": [],
   "source": []
  }
 ],
 "metadata": {
  "kernelspec": {
   "display_name": ".venv",
   "language": "python",
   "name": "python3"
  },
  "language_info": {
   "codemirror_mode": {
    "name": "ipython",
    "version": 3
   },
   "file_extension": ".py",
   "mimetype": "text/x-python",
   "name": "python",
   "nbconvert_exporter": "python",
   "pygments_lexer": "ipython3",
   "version": "3.10.0"
  }
 },
 "nbformat": 4,
 "nbformat_minor": 5
}
